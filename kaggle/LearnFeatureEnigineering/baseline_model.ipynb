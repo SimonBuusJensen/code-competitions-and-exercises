{
 "cells": [
  {
   "cell_type": "code",
   "execution_count": 2,
   "metadata": {
    "collapsed": true,
    "pycharm": {
     "is_executing": false
    }
   },
   "outputs": [],
   "source": [
    "import pandas as pd"
   ]
  },
  {
   "cell_type": "code",
   "execution_count": 33,
   "outputs": [],
   "source": [
    "# Read the CSV with kickstarter data\n",
    "ks = pd.read_csv(\"./data/ks-projects-201801.csv\", parse_dates=[\"deadline\", \"launched\"])"
   ],
   "metadata": {
    "collapsed": false,
    "pycharm": {
     "name": "#%%\n",
     "is_executing": false
    }
   }
  },
  {
   "cell_type": "code",
   "execution_count": 34,
   "outputs": [
    {
     "data": {
      "text/plain": "           ID                                               name  \\\n0  1000002330                    The Songs of Adelaide & Abullah   \n1  1000003930      Greeting From Earth: ZGAC Arts Capsule For ET   \n2  1000004038                                     Where is Hank?   \n3  1000007540  ToshiCapital Rekordz Needs Help to Complete Album   \n4  1000011046  Community Film Project: The Art of Neighborhoo...   \n\n         category main_category currency   deadline     goal  \\\n0          Poetry    Publishing      GBP 2015-10-09   1000.0   \n1  Narrative Film  Film & Video      USD 2017-11-01  30000.0   \n2  Narrative Film  Film & Video      USD 2013-02-26  45000.0   \n3           Music         Music      USD 2012-04-16   5000.0   \n4    Film & Video  Film & Video      USD 2015-08-29  19500.0   \n\n             launched  pledged     state  backers country  usd pledged  \\\n0 2015-08-11 12:12:28      0.0    failed        0      GB          0.0   \n1 2017-09-02 04:43:57   2421.0    failed       15      US        100.0   \n2 2013-01-12 00:20:50    220.0    failed        3      US        220.0   \n3 2012-03-17 03:24:11      1.0    failed        1      US          1.0   \n4 2015-07-04 08:35:03   1283.0  canceled       14      US       1283.0   \n\n   usd_pledged_real  usd_goal_real  \n0               0.0        1533.95  \n1            2421.0       30000.00  \n2             220.0       45000.00  \n3               1.0        5000.00  \n4            1283.0       19500.00  ",
      "text/html": "<div>\n<style scoped>\n    .dataframe tbody tr th:only-of-type {\n        vertical-align: middle;\n    }\n\n    .dataframe tbody tr th {\n        vertical-align: top;\n    }\n\n    .dataframe thead th {\n        text-align: right;\n    }\n</style>\n<table border=\"1\" class=\"dataframe\">\n  <thead>\n    <tr style=\"text-align: right;\">\n      <th></th>\n      <th>ID</th>\n      <th>name</th>\n      <th>category</th>\n      <th>main_category</th>\n      <th>currency</th>\n      <th>deadline</th>\n      <th>goal</th>\n      <th>launched</th>\n      <th>pledged</th>\n      <th>state</th>\n      <th>backers</th>\n      <th>country</th>\n      <th>usd pledged</th>\n      <th>usd_pledged_real</th>\n      <th>usd_goal_real</th>\n    </tr>\n  </thead>\n  <tbody>\n    <tr>\n      <th>0</th>\n      <td>1000002330</td>\n      <td>The Songs of Adelaide &amp; Abullah</td>\n      <td>Poetry</td>\n      <td>Publishing</td>\n      <td>GBP</td>\n      <td>2015-10-09</td>\n      <td>1000.0</td>\n      <td>2015-08-11 12:12:28</td>\n      <td>0.0</td>\n      <td>failed</td>\n      <td>0</td>\n      <td>GB</td>\n      <td>0.0</td>\n      <td>0.0</td>\n      <td>1533.95</td>\n    </tr>\n    <tr>\n      <th>1</th>\n      <td>1000003930</td>\n      <td>Greeting From Earth: ZGAC Arts Capsule For ET</td>\n      <td>Narrative Film</td>\n      <td>Film &amp; Video</td>\n      <td>USD</td>\n      <td>2017-11-01</td>\n      <td>30000.0</td>\n      <td>2017-09-02 04:43:57</td>\n      <td>2421.0</td>\n      <td>failed</td>\n      <td>15</td>\n      <td>US</td>\n      <td>100.0</td>\n      <td>2421.0</td>\n      <td>30000.00</td>\n    </tr>\n    <tr>\n      <th>2</th>\n      <td>1000004038</td>\n      <td>Where is Hank?</td>\n      <td>Narrative Film</td>\n      <td>Film &amp; Video</td>\n      <td>USD</td>\n      <td>2013-02-26</td>\n      <td>45000.0</td>\n      <td>2013-01-12 00:20:50</td>\n      <td>220.0</td>\n      <td>failed</td>\n      <td>3</td>\n      <td>US</td>\n      <td>220.0</td>\n      <td>220.0</td>\n      <td>45000.00</td>\n    </tr>\n    <tr>\n      <th>3</th>\n      <td>1000007540</td>\n      <td>ToshiCapital Rekordz Needs Help to Complete Album</td>\n      <td>Music</td>\n      <td>Music</td>\n      <td>USD</td>\n      <td>2012-04-16</td>\n      <td>5000.0</td>\n      <td>2012-03-17 03:24:11</td>\n      <td>1.0</td>\n      <td>failed</td>\n      <td>1</td>\n      <td>US</td>\n      <td>1.0</td>\n      <td>1.0</td>\n      <td>5000.00</td>\n    </tr>\n    <tr>\n      <th>4</th>\n      <td>1000011046</td>\n      <td>Community Film Project: The Art of Neighborhoo...</td>\n      <td>Film &amp; Video</td>\n      <td>Film &amp; Video</td>\n      <td>USD</td>\n      <td>2015-08-29</td>\n      <td>19500.0</td>\n      <td>2015-07-04 08:35:03</td>\n      <td>1283.0</td>\n      <td>canceled</td>\n      <td>14</td>\n      <td>US</td>\n      <td>1283.0</td>\n      <td>1283.0</td>\n      <td>19500.00</td>\n    </tr>\n  </tbody>\n</table>\n</div>"
     },
     "metadata": {},
     "output_type": "execute_result",
     "execution_count": 34
    }
   ],
   "source": [
    "# Check the first couple of line to get an idea about the data format\n",
    "ks.head()"
   ],
   "metadata": {
    "collapsed": false,
    "pycharm": {
     "name": "#%%\n",
     "is_executing": false
    }
   }
  },
  {
   "cell_type": "code",
   "execution_count": 35,
   "outputs": [
    {
     "name": "stdout",
     "text": [
      "<class 'pandas.core.frame.DataFrame'>\nRangeIndex: 378661 entries, 0 to 378660\nData columns (total 15 columns):\nID                  378661 non-null int64\nname                378657 non-null object\ncategory            378661 non-null object\nmain_category       378661 non-null object\ncurrency            378661 non-null object\ndeadline            378661 non-null datetime64[ns]\ngoal                378661 non-null float64\nlaunched            378661 non-null datetime64[ns]\npledged             378661 non-null float64\nstate               378661 non-null object\nbackers             378661 non-null int64\ncountry             378661 non-null object\nusd pledged         374864 non-null float64\nusd_pledged_real    378661 non-null float64\nusd_goal_real       378661 non-null float64\ndtypes: datetime64[ns](2), float64(5), int64(2), object(6)\nmemory usage: 43.3+ MB\n"
     ],
     "output_type": "stream"
    }
   ],
   "source": [
    "# Check the columns and data types\n",
    "ks.info()"
   ],
   "metadata": {
    "collapsed": false,
    "pycharm": {
     "name": "#%%\n",
     "is_executing": false
    }
   }
  },
  {
   "cell_type": "code",
   "execution_count": 36,
   "outputs": [
    {
     "data": {
      "text/plain": "array(['failed', 'canceled', 'successful', 'live', 'undefined',\n       'suspended'], dtype=object)"
     },
     "metadata": {},
     "output_type": "execute_result",
     "execution_count": 36
    }
   ],
   "source": [
    "# Which values does the \"state\" column take?\n",
    "ks[\"state\"].unique()\n"
   ],
   "metadata": {
    "collapsed": false,
    "pycharm": {
     "name": "#%%\n",
     "is_executing": false
    }
   }
  },
  {
   "cell_type": "code",
   "execution_count": 37,
   "outputs": [
    {
     "data": {
      "text/plain": "state\ncanceled       38779\nfailed        197719\nlive            2799\nsuccessful    133956\nsuspended       1846\nundefined       3562\nName: ID, dtype: int64"
     },
     "metadata": {},
     "output_type": "execute_result",
     "execution_count": 37
    }
   ],
   "source": [
    "# Count the number of occurences of the \"state\" values\n",
    "ks.groupby(by=\"state\")[\"ID\"].count()\n"
   ],
   "metadata": {
    "collapsed": false,
    "pycharm": {
     "name": "#%%\n",
     "is_executing": false
    }
   }
  },
  {
   "cell_type": "code",
   "execution_count": 38,
   "outputs": [],
   "source": [
    "# Remove the kickstarter projects which are still live\n",
    "ks = ks.query('state != \"live\"')\n"
   ],
   "metadata": {
    "collapsed": false,
    "pycharm": {
     "name": "#%%\n",
     "is_executing": false
    }
   }
  },
  {
   "cell_type": "code",
   "execution_count": 39,
   "outputs": [],
   "source": [
    "# Make new outcome column which is 1 if the project was successful and 0 otherwise\n",
    "ks = ks.assign(outcome=(ks[\"state\"] == 'successful').astype(int))"
   ],
   "metadata": {
    "collapsed": false,
    "pycharm": {
     "name": "#%%\n",
     "is_executing": false
    }
   }
  },
  {
   "cell_type": "code",
   "execution_count": 40,
   "outputs": [
    {
     "data": {
      "text/plain": "0   2015-08-11 12:12:28\n1   2017-09-02 04:43:57\n2   2013-01-12 00:20:50\n3   2012-03-17 03:24:11\n4   2015-07-04 08:35:03\nName: launched, dtype: datetime64[ns]"
     },
     "metadata": {},
     "output_type": "execute_result",
     "execution_count": 40
    }
   ],
   "source": [
    "ks[\"launched\"].head()\n",
    "#ks = ks.assign(hour=ks.launched.dt.hour)\n",
    "#ks.info()"
   ],
   "metadata": {
    "collapsed": false,
    "pycharm": {
     "name": "#%%\n",
     "is_executing": false
    }
   }
  },
  {
   "cell_type": "code",
   "execution_count": 41,
   "outputs": [],
   "source": [
    "ks = ks.assign(\n",
    "    year=ks.launched.dt.year,\n",
    "    month=ks.launched.dt.month,\n",
    "    day=ks.launched.dt.day,\n",
    "    hour=ks.launched.dt.hour)\n"
   ],
   "metadata": {
    "collapsed": false,
    "pycharm": {
     "name": "#%%\n",
     "is_executing": false
    }
   }
  },
  {
   "cell_type": "code",
   "execution_count": 53,
   "outputs": [],
   "source": [
    "# Encode categorial columns\n",
    "from sklearn.preprocessing import LabelEncoder\n",
    "label_encoder = LabelEncoder()\n",
    "categorial_cols = [\"category\", \"main_category\", \"currency\", \"country\"]\n",
    "encoded = ks[categorial_cols].apply(label_encoder.fit_transform)\n"
   ],
   "metadata": {
    "collapsed": false,
    "pycharm": {
     "name": "#%%\n",
     "is_executing": false
    }
   }
  },
  {
   "cell_type": "code",
   "execution_count": 54,
   "outputs": [
    {
     "data": {
      "text/plain": "   category  main_category  currency  country\n0       108             12         5        9\n1        93              6        13       22\n2        93              6        13       22\n3        90             10        13       22\n4        55              6        13       22",
      "text/html": "<div>\n<style scoped>\n    .dataframe tbody tr th:only-of-type {\n        vertical-align: middle;\n    }\n\n    .dataframe tbody tr th {\n        vertical-align: top;\n    }\n\n    .dataframe thead th {\n        text-align: right;\n    }\n</style>\n<table border=\"1\" class=\"dataframe\">\n  <thead>\n    <tr style=\"text-align: right;\">\n      <th></th>\n      <th>category</th>\n      <th>main_category</th>\n      <th>currency</th>\n      <th>country</th>\n    </tr>\n  </thead>\n  <tbody>\n    <tr>\n      <th>0</th>\n      <td>108</td>\n      <td>12</td>\n      <td>5</td>\n      <td>9</td>\n    </tr>\n    <tr>\n      <th>1</th>\n      <td>93</td>\n      <td>6</td>\n      <td>13</td>\n      <td>22</td>\n    </tr>\n    <tr>\n      <th>2</th>\n      <td>93</td>\n      <td>6</td>\n      <td>13</td>\n      <td>22</td>\n    </tr>\n    <tr>\n      <th>3</th>\n      <td>90</td>\n      <td>10</td>\n      <td>13</td>\n      <td>22</td>\n    </tr>\n    <tr>\n      <th>4</th>\n      <td>55</td>\n      <td>6</td>\n      <td>13</td>\n      <td>22</td>\n    </tr>\n  </tbody>\n</table>\n</div>"
     },
     "metadata": {},
     "output_type": "execute_result",
     "execution_count": 54
    }
   ],
   "source": [
    "encoded.head(5)\n",
    "\n"
   ],
   "metadata": {
    "collapsed": false,
    "pycharm": {
     "name": "#%%\n",
     "is_executing": false
    }
   }
  },
  {
   "cell_type": "code",
   "execution_count": 55,
   "outputs": [
    {
     "name": "stdout",
     "text": [
      "<class 'pandas.core.frame.DataFrame'>\nInt64Index: 375862 entries, 0 to 378660\nData columns (total 20 columns):\nID                  375862 non-null int64\nname                375858 non-null object\ncategory            375862 non-null object\nmain_category       375862 non-null object\ncurrency            375862 non-null object\ndeadline            375862 non-null datetime64[ns]\ngoal                375862 non-null float64\nlaunched            375862 non-null datetime64[ns]\npledged             375862 non-null float64\nstate               375862 non-null object\nbackers             375862 non-null int64\ncountry             375862 non-null object\nusd pledged         372066 non-null float64\nusd_pledged_real    375862 non-null float64\nusd_goal_real       375862 non-null float64\noutcome             375862 non-null int64\nyear                375862 non-null int64\nmonth               375862 non-null int64\nday                 375862 non-null int64\nhour                375862 non-null int64\ndtypes: datetime64[ns](2), float64(5), int64(7), object(6)\nmemory usage: 60.2+ MB\n"
     ],
     "output_type": "stream"
    }
   ],
   "source": [
    "ks.info()"
   ],
   "metadata": {
    "collapsed": false,
    "pycharm": {
     "name": "#%%\n",
     "is_executing": false
    }
   }
  },
  {
   "cell_type": "code",
   "execution_count": 58,
   "outputs": [],
   "source": [
    "# Since ks and encoded have the same index and I can easily join them\n",
    "data = ks[[ 'outcome', 'goal', 'hour', 'day', 'month', 'year']].join(encoded)"
   ],
   "metadata": {
    "collapsed": false,
    "pycharm": {
     "name": "#%%\n",
     "is_executing": false
    }
   }
  },
  {
   "cell_type": "code",
   "execution_count": 59,
   "outputs": [
    {
     "data": {
      "text/plain": "   outcome     goal  hour  day  month  year  category  main_category  \\\n0        0   1000.0    12   11      8  2015       108             12   \n1        0  30000.0     4    2      9  2017        93              6   \n2        0  45000.0     0   12      1  2013        93              6   \n3        0   5000.0     3   17      3  2012        90             10   \n4        0  19500.0     8    4      7  2015        55              6   \n\n   currency  country  \n0         5        9  \n1        13       22  \n2        13       22  \n3        13       22  \n4        13       22  ",
      "text/html": "<div>\n<style scoped>\n    .dataframe tbody tr th:only-of-type {\n        vertical-align: middle;\n    }\n\n    .dataframe tbody tr th {\n        vertical-align: top;\n    }\n\n    .dataframe thead th {\n        text-align: right;\n    }\n</style>\n<table border=\"1\" class=\"dataframe\">\n  <thead>\n    <tr style=\"text-align: right;\">\n      <th></th>\n      <th>outcome</th>\n      <th>goal</th>\n      <th>hour</th>\n      <th>day</th>\n      <th>month</th>\n      <th>year</th>\n      <th>category</th>\n      <th>main_category</th>\n      <th>currency</th>\n      <th>country</th>\n    </tr>\n  </thead>\n  <tbody>\n    <tr>\n      <th>0</th>\n      <td>0</td>\n      <td>1000.0</td>\n      <td>12</td>\n      <td>11</td>\n      <td>8</td>\n      <td>2015</td>\n      <td>108</td>\n      <td>12</td>\n      <td>5</td>\n      <td>9</td>\n    </tr>\n    <tr>\n      <th>1</th>\n      <td>0</td>\n      <td>30000.0</td>\n      <td>4</td>\n      <td>2</td>\n      <td>9</td>\n      <td>2017</td>\n      <td>93</td>\n      <td>6</td>\n      <td>13</td>\n      <td>22</td>\n    </tr>\n    <tr>\n      <th>2</th>\n      <td>0</td>\n      <td>45000.0</td>\n      <td>0</td>\n      <td>12</td>\n      <td>1</td>\n      <td>2013</td>\n      <td>93</td>\n      <td>6</td>\n      <td>13</td>\n      <td>22</td>\n    </tr>\n    <tr>\n      <th>3</th>\n      <td>0</td>\n      <td>5000.0</td>\n      <td>3</td>\n      <td>17</td>\n      <td>3</td>\n      <td>2012</td>\n      <td>90</td>\n      <td>10</td>\n      <td>13</td>\n      <td>22</td>\n    </tr>\n    <tr>\n      <th>4</th>\n      <td>0</td>\n      <td>19500.0</td>\n      <td>8</td>\n      <td>4</td>\n      <td>7</td>\n      <td>2015</td>\n      <td>55</td>\n      <td>6</td>\n      <td>13</td>\n      <td>22</td>\n    </tr>\n  </tbody>\n</table>\n</div>"
     },
     "metadata": {},
     "output_type": "execute_result",
     "execution_count": 59
    }
   ],
   "source": [
    "data.head(5)\n",
    "\n"
   ],
   "metadata": {
    "collapsed": false,
    "pycharm": {
     "name": "#%%\n",
     "is_executing": false
    }
   }
  },
  {
   "cell_type": "code",
   "execution_count": 73,
   "outputs": [],
   "source": [
    "# Split the data into a train, test and validation set\n",
    "# 1. Shuffle the rows\n",
    "data = data.sample(frac=1).reset_index(drop=True)\n",
    "val_frac = 0.1\n",
    "test_frac = val_frac\n",
    "train_frac = 1 - (val_frac + test_frac)\n",
    "\n",
    "def sample_size(fraction):\n",
    "    return int(len(data) * fraction)\n",
    "\n",
    "valid = data[:sample_size(fraction=val_frac)]\n",
    "test = data[sample_size(fraction=val_frac):sample_size(fraction=val_frac)+sample_size(fraction=test_frac)]\n",
    "train = data[sample_size(fraction=val_frac)+sample_size(fraction=test_frac):]\n",
    "\n",
    "assert data.count()[\"outcome\"] == valid.count()[\"outcome\"] + test.count()[\"outcome\"] + train.count()[\"outcome\"]\n"
   ],
   "metadata": {
    "collapsed": false,
    "pycharm": {
     "name": "#%%\n",
     "is_executing": false
    }
   }
  },
  {
   "cell_type": "code",
   "execution_count": 74,
   "outputs": [
    {
     "name": "stdout",
     "text": [
      "Samples in train dataset: 300690\nSamples in test dataset: 37586\nSamples in validation dataset: 37586\n"
     ],
     "output_type": "stream"
    }
   ],
   "source": [
    "print(\"Samples in train dataset:\", train.count()[\"outcome\"])\n",
    "print(\"Samples in test dataset:\", test.count()[\"outcome\"])\n",
    "print(\"Samples in validation dataset:\", valid.count()[\"outcome\"])"
   ],
   "metadata": {
    "collapsed": false,
    "pycharm": {
     "name": "#%%\n",
     "is_executing": false
    }
   }
  },
  {
   "cell_type": "code",
   "execution_count": 77,
   "outputs": [
    {
     "name": "stdout",
     "text": [
      "Outcome fraction = 0.3565\nOutcome fraction = 0.3532\nOutcome fraction = 0.3584\n"
     ],
     "output_type": "stream"
    }
   ],
   "source": [
    "# Test the proportion of succesful outcome in the datasets\n",
    "for dataset in [train, test, valid]:\n",
    "    # print(f\"Outcome distribtion = {dataset.outcome.mean():.4f\")\n",
    "    print(f\"Outcome fraction = {dataset.outcome.mean():.4f}\")\n"
   ],
   "metadata": {
    "collapsed": false,
    "pycharm": {
     "name": "#%%\n",
     "is_executing": false
    }
   }
  },
  {
   "cell_type": "code",
   "execution_count": null,
   "outputs": [],
   "source": [
    "\n"
   ],
   "metadata": {
    "collapsed": false,
    "pycharm": {
     "name": "#%%\n"
    }
   }
  }
 ],
 "metadata": {
  "kernelspec": {
   "display_name": "Python 3",
   "language": "python",
   "name": "python3"
  },
  "language_info": {
   "codemirror_mode": {
    "name": "ipython",
    "version": 2
   },
   "file_extension": ".py",
   "mimetype": "text/x-python",
   "name": "python",
   "nbconvert_exporter": "python",
   "pygments_lexer": "ipython2",
   "version": "2.7.6"
  },
  "pycharm": {
   "stem_cell": {
    "cell_type": "raw",
    "source": [],
    "metadata": {
     "collapsed": false
    }
   }
  }
 },
 "nbformat": 4,
 "nbformat_minor": 0
}